{
  "nbformat": 4,
  "nbformat_minor": 0,
  "metadata": {
    "colab": {
      "provenance": [],
      "authorship_tag": "ABX9TyOGd6Gufzyh+E49z7uEwfCu",
      "include_colab_link": true
    },
    "kernelspec": {
      "name": "python3",
      "display_name": "Python 3"
    },
    "language_info": {
      "name": "python"
    }
  },
  "cells": [
    {
      "cell_type": "markdown",
      "metadata": {
        "id": "view-in-github",
        "colab_type": "text"
      },
      "source": [
        "<a href=\"https://colab.research.google.com/github/EnricoCeci/Master-Data-Science---Profession-AI---Portfolio-/blob/main/2_My_1st_NBook_LaTeX_04092025.ipynb\" target=\"_parent\"><img src=\"https://colab.research.google.com/assets/colab-badge.svg\" alt=\"Open In Colab\"/></a>"
      ]
    },
    {
      "cell_type": "markdown",
      "source": [
        "#Utilizzo di LaTeX nel markdown"
      ],
      "metadata": {
        "id": "8TKY4aWCRkKF"
      }
    },
    {
      "cell_type": "markdown",
      "source": [
        "Per utilizzare latex bisogna racchiudere il testo fra due $testo$\n",
        "\n",
        "$1+2$"
      ],
      "metadata": {
        "id": "UX6aBJSdRqpq"
      }
    },
    {
      "cell_type": "markdown",
      "source": [
        "La distanza fra i punti $P_1 = (x_1 y_1)$ e $p_2 = (x_2 y_2)$ è determinata dalla formula\n",
        "\n",
        "$$ \\sqrt{(x_2-x_1)^2+(y_2-y_1)^2} $$"
      ],
      "metadata": {
        "id": "Ol_xDiFRSBLF"
      }
    },
    {
      "cell_type": "markdown",
      "source": [
        "è possibile realizzare formule in latex senza dover necessariamente usare linguaggio latex, ma con un editor che si chiama [codecogs](https://editor.codecogs.com/)"
      ],
      "metadata": {
        "id": "R8RqTq7DThlP"
      }
    },
    {
      "cell_type": "code",
      "execution_count": null,
      "metadata": {
        "id": "6advP2llQX6f"
      },
      "outputs": [],
      "source": []
    }
  ]
}