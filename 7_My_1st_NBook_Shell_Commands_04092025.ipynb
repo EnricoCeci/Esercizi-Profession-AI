{
  "nbformat": 4,
  "nbformat_minor": 0,
  "metadata": {
    "colab": {
      "provenance": [],
      "authorship_tag": "ABX9TyOBnCJ5UGrh71CUvIv784CY",
      "include_colab_link": true
    },
    "kernelspec": {
      "name": "python3",
      "display_name": "Python 3"
    },
    "language_info": {
      "name": "python"
    }
  },
  "cells": [
    {
      "cell_type": "markdown",
      "metadata": {
        "id": "view-in-github",
        "colab_type": "text"
      },
      "source": [
        "<a href=\"https://colab.research.google.com/github/EnricoCeci/Master-Data-Science---Profession-AI---Portfolio-/blob/main/7_My_1st_NBook_Shell_Commands_04092025.ipynb\" target=\"_parent\"><img src=\"https://colab.research.google.com/assets/colab-badge.svg\" alt=\"Open In Colab\"/></a>"
      ]
    },
    {
      "cell_type": "code",
      "execution_count": 1,
      "metadata": {
        "id": "0YqqhZ1-Oio-"
      },
      "outputs": [],
      "source": [
        "#Gli SHELL COMMANDS si richiamano con un \"!\""
      ]
    },
    {
      "cell_type": "code",
      "source": [
        "#un comando condiviso con i magic command è quello di \"ls\":\n",
        "# !ls questo è il formato per gli shell commands"
      ],
      "metadata": {
        "id": "1dINS11aP62E"
      },
      "execution_count": 2,
      "outputs": []
    },
    {
      "cell_type": "code",
      "source": [
        "# Un comando molto utile per scaricare file da internet sul colab è:\n",
        "# !wget link del file"
      ],
      "metadata": {
        "id": "kPbRbO8jQZOP"
      },
      "execution_count": 3,
      "outputs": []
    },
    {
      "cell_type": "code",
      "source": [
        "# un comando che fa la stessa cosa è !curl.Queto permette anche di specificare\n",
        "# il nome dell'output\n",
        "# esempio: !curl link al file --output nome che vogliamo peril file.formato"
      ],
      "metadata": {
        "id": "S2nBK0j1QzV7"
      },
      "execution_count": 4,
      "outputs": []
    },
    {
      "cell_type": "code",
      "source": [
        "#per cancellare un file si può usare !rn nome file"
      ],
      "metadata": {
        "id": "UtRXk2PrRSkY"
      },
      "execution_count": 5,
      "outputs": []
    },
    {
      "cell_type": "code",
      "source": [
        "# spostare file da directory ad altra: !mv nome file e directory di\n",
        "# destinazione"
      ],
      "metadata": {
        "id": "5vd_9Oa-RbHJ"
      },
      "execution_count": 6,
      "outputs": []
    },
    {
      "cell_type": "code",
      "source": [
        "#per cancellare una cartella senza dover sottostare alla regola di colab x cui\n",
        "#prima cancelli tutti i file in essa e poi la cancelli, si può usare:\n",
        "# !rm -r nome cartella da cancellare/"
      ],
      "metadata": {
        "id": "BDZEC0VmRupe"
      },
      "execution_count": 6,
      "outputs": []
    }
  ]
}