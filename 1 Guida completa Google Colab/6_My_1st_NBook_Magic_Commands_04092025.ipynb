{
  "nbformat": 4,
  "nbformat_minor": 0,
  "metadata": {
    "colab": {
      "provenance": [],
      "authorship_tag": "ABX9TyPzaC7tPjzEeHlDvAZ4gTYQ",
      "include_colab_link": true
    },
    "kernelspec": {
      "name": "python3",
      "display_name": "Python 3"
    },
    "language_info": {
      "name": "python"
    }
  },
  "cells": [
    {
      "cell_type": "markdown",
      "metadata": {
        "id": "view-in-github",
        "colab_type": "text"
      },
      "source": [
        "<a href=\"https://colab.research.google.com/github/EnricoCeci/Master-Data-Science---Profession-AI---Portfolio-/blob/main/6_My_1st_NBook_Magic_Commands_04092025.ipynb\" target=\"_parent\"><img src=\"https://colab.research.google.com/assets/colab-badge.svg\" alt=\"Open In Colab\"/></a>"
      ]
    },
    {
      "cell_type": "code",
      "execution_count": 2,
      "metadata": {
        "colab": {
          "base_uri": "https://localhost:8080/"
        },
        "id": "Sb9R4ePsIQlk",
        "outputId": "a01baae6-3bb6-48f7-c50c-1c8d6ee3b97a"
      },
      "outputs": [
        {
          "output_type": "stream",
          "name": "stdout",
          "text": [
            "CPU times: user 18 µs, sys: 2 µs, total: 20 µs\n",
            "Wall time: 22.6 µs\n"
          ]
        },
        {
          "output_type": "execute_result",
          "data": {
            "text/plain": [
              "100000000000000000000000000000000000000000000000000000000000000000000000000000000000000000000000000000000000000000000000000000000000000000000000000000000000000000000000000000000000000000000000000000000000000000000000000000000000000000000000000000000000000000000000000000000000000000000000000000000000000000000000000000000000000000000000000000000000000000000000000000000000000000000000000000000000000000000000000000000000000000000000000000000000000000000000000000000000000000000000000000000000000000000000000000000000000000000000000000000000000000000000000000000000000000000000000000000000000000000000000000000000000000000000000000000000000000000000000000000000000000000000000000000000000000000000000000000000000000000000000000000000000000000000000000000000000000000000000000000000000000000000000000000000000000000000000000000000000000000000000000000000000000000000000000000000000000000000000000000000000000000000000000000000000000000000000000000000000000000000000000000000000000000000000000000000000000000000000000000000000000000000000000000000000000000000000000000000000000000000000000000000000000000000000000000000000000000000000000000000000000000000000000000000000000000000000000000000000000000000000000000000000000000000000000000000000000000000000000000000000000000000000000000000000000000000000000000000000000000000000000000000000000000000000000000000000000000000000000000000000000000000000000000000000000000000000000000000000000000000000000000000000000000000000000000000000000000000000000000000000000000000000000000000000000000000000000000000000000000000000000000000000000000000000000000000000000000000000000000000000000000000000000000000000000000000000000000000000000000000000000000000000000000000000000000000000000000000000000000000000000000000000000000000000000000000000000000000000000000000000000000000000000000000000000000000000000000000000000000000000000000000000000000000000000000000000000000000000000000000000000000000000000000000000000000000000000000000000000000000000000000000000000000"
            ]
          },
          "metadata": {},
          "execution_count": 2
        }
      ],
      "source": [
        "#TIME SERVE PER SAPERE QUANTO TEMPO IMPIEGA IL SISTEMA A RUNNARE I COMANDI\n",
        "#I MAGIC COMMANDS SONO PRECEDUTI DA \"%\"\n",
        "\n",
        "a = 100\n",
        "b = 1000\n",
        "\n",
        "%time a**b"
      ]
    },
    {
      "cell_type": "code",
      "source": [
        "#CRONOMETRO LA VELCOITA CON CUI VIENE ESEGUITA LA SEGUENZA DI FIBONACCI\n",
        "#questa volta il magic command va messo all'inizio con due \"%%\"\n",
        "\n",
        "%%time\n",
        "\n",
        "def fibonacci(n):\n",
        "  if n == 0:\n",
        "    return 0\n",
        "  elif n == 1:\n",
        "    return 1\n",
        "  else:\n",
        "    return fibonacci(n-1)+fibonacci(n-2)\n",
        "\n",
        "fibonacci(30)"
      ],
      "metadata": {
        "colab": {
          "base_uri": "https://localhost:8080/"
        },
        "id": "Y42RSY8ILCfN",
        "outputId": "ec777b94-d769-4fc2-a287-1920ce056018"
      },
      "execution_count": 4,
      "outputs": [
        {
          "output_type": "stream",
          "name": "stdout",
          "text": [
            "CPU times: user 188 ms, sys: 15 µs, total: 188 ms\n",
            "Wall time: 188 ms\n"
          ]
        },
        {
          "output_type": "execute_result",
          "data": {
            "text/plain": [
              "832040"
            ]
          },
          "metadata": {},
          "execution_count": 4
        }
      ]
    },
    {
      "cell_type": "code",
      "source": [
        "#il command %ls ci permette di vedere i file delle directory di lavoro"
      ],
      "metadata": {
        "id": "bLCxqCL3M63f"
      },
      "execution_count": null,
      "outputs": []
    },
    {
      "cell_type": "code",
      "source": [
        "#il command %pwd ci mostra la cartella di lavoro con cui stiamo lavorando"
      ],
      "metadata": {
        "id": "ncw8kygBNhEG"
      },
      "execution_count": 5,
      "outputs": []
    },
    {
      "cell_type": "code",
      "source": [
        "# %mkdir ci permette di creare una nuova directory in colab"
      ],
      "metadata": {
        "id": "KMXTWqAJNtv0"
      },
      "execution_count": 6,
      "outputs": []
    },
    {
      "cell_type": "code",
      "source": [
        "# si può cambiare la directory di lavoro con %cd"
      ],
      "metadata": {
        "id": "sl2ifRF9N5y0"
      },
      "execution_count": 7,
      "outputs": []
    },
    {
      "cell_type": "code",
      "source": [
        "# per vedere la storia di tutti i magi commands lanciato uso %history"
      ],
      "metadata": {
        "id": "_4H-UTSyOIyA"
      },
      "execution_count": 8,
      "outputs": []
    },
    {
      "cell_type": "code",
      "source": [
        "#per vedere tutti i magic comands uso %lsmagic"
      ],
      "metadata": {
        "id": "Y1NT3dFqOPG9"
      },
      "execution_count": 9,
      "outputs": []
    },
    {
      "cell_type": "code",
      "source": [],
      "metadata": {
        "id": "WM0wGuzhOYq6"
      },
      "execution_count": null,
      "outputs": []
    }
  ]
}
