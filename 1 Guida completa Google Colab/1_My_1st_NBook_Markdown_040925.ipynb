{
  "nbformat": 4,
  "nbformat_minor": 0,
  "metadata": {
    "colab": {
      "provenance": [],
      "authorship_tag": "ABX9TyO6tPFcQbKh0iw3i6NQRQeK",
      "include_colab_link": true
    },
    "kernelspec": {
      "name": "python3",
      "display_name": "Python 3"
    },
    "language_info": {
      "name": "python"
    }
  },
  "cells": [
    {
      "cell_type": "markdown",
      "metadata": {
        "id": "view-in-github",
        "colab_type": "text"
      },
      "source": [
        "<a href=\"https://colab.research.google.com/github/EnricoCeci/Master-Data-Science---Profession-AI---Portfolio-/blob/main/1_My_1st_NBook_Markdown_040925.ipynb\" target=\"_parent\"><img src=\"https://colab.research.google.com/assets/colab-badge.svg\" alt=\"Open In Colab\"/></a>"
      ]
    },
    {
      "cell_type": "markdown",
      "source": [
        "Il mio primo notebook"
      ],
      "metadata": {
        "id": "pJ5z1TjsyiMf"
      }
    },
    {
      "cell_type": "code",
      "source": [
        "print (\"Hello Colab\")"
      ],
      "metadata": {
        "colab": {
          "base_uri": "https://localhost:8080/"
        },
        "id": "b5p6A8HKylty",
        "outputId": "556d2236-ac2e-491f-dd9d-b32ebb293c33"
      },
      "execution_count": 2,
      "outputs": [
        {
          "output_type": "stream",
          "name": "stdout",
          "text": [
            "Hello Colab\n"
          ]
        }
      ]
    },
    {
      "cell_type": "markdown",
      "source": [
        "####Hello Colab usato per la dimosytrazione dei link interni\n",
        "<a name=\"inizio\" />"
      ],
      "metadata": {
        "id": "ciQJGGe1Pd41"
      }
    },
    {
      "cell_type": "markdown",
      "source": [
        "# I TITOLI SI FANNO AGGIUNGENDO 1,2,3 O AL MAX 4 CANCELLETTI PRIMA DELLA FRASE"
      ],
      "metadata": {
        "id": "zcGv3M2GIqbc"
      }
    },
    {
      "cell_type": "markdown",
      "source": [
        "## Questo è un titolo più piccolo"
      ],
      "metadata": {
        "id": "no2as6IgH3Ue"
      }
    },
    {
      "cell_type": "markdown",
      "source": [
        "### Questo è un titolo ancoa più piccolo"
      ],
      "metadata": {
        "id": "0YAbDKIWH-2S"
      }
    },
    {
      "cell_type": "markdown",
      "source": [
        "#### Questo è il titolo più piccolo"
      ],
      "metadata": {
        "id": "MSHilTmIINSk"
      }
    },
    {
      "cell_type": "markdown",
      "source": [
        "# PER METTERE IN CORSIVO IL TESTO METTO IL TESTO FRA DUE ASTERISCHI"
      ],
      "metadata": {
        "id": "AQP3RHPlIgXB"
      }
    },
    {
      "cell_type": "markdown",
      "source": [
        "*corsivo*"
      ],
      "metadata": {
        "id": "3hBQFTBYJJVr"
      }
    },
    {
      "cell_type": "markdown",
      "source": [
        "# PER METTERE IL TESTO IN GRASSETTO, INSERISCO IL TESTO FRA 4 ASTERISCHI: 2 ALL'INIZIO E DUE ALLA FINE"
      ],
      "metadata": {
        "id": "8f_zvl25JPpC"
      }
    },
    {
      "cell_type": "markdown",
      "source": [
        "**grassetto**"
      ],
      "metadata": {
        "id": "-lOXtOR7JaJ8"
      }
    },
    {
      "cell_type": "markdown",
      "source": [
        "#PER COLORARE IL TESTO DOBBIAMO USARE <>"
      ],
      "metadata": {
        "id": "e2gX2Gw4Jqoj"
      }
    },
    {
      "cell_type": "markdown",
      "source": [
        "Questo testo è <font color=\"red\"> rosso </font>, oppure <font color= \"green\"> verde </font>"
      ],
      "metadata": {
        "id": "wNkqxAi1KB6b"
      }
    },
    {
      "cell_type": "markdown",
      "source": [
        "# PER ANDARE NON BASTA PREMERE INVIO PERCHé MARKDOWN NON LO CAPISCE. SI USA <br> CHE NON HA BISOGNO DI TAG DI CHIUSURA"
      ],
      "metadata": {
        "id": "KHyqNlstLA58"
      }
    },
    {
      "cell_type": "markdown",
      "source": [
        "andiamo a capo <br>\n",
        "siamo andati a capo"
      ],
      "metadata": {
        "id": "l16ZhfZ1LP77"
      }
    },
    {
      "cell_type": "markdown",
      "source": [
        "#INDENTIAMO IL TESTO"
      ],
      "metadata": {
        "id": "n7NKSH2MLW2W"
      }
    },
    {
      "cell_type": "markdown",
      "source": [
        "> Questo testo è indentato"
      ],
      "metadata": {
        "id": "t51BsVXlLfti"
      }
    },
    {
      "cell_type": "markdown",
      "source": [
        ">> Anche questo è indentato"
      ],
      "metadata": {
        "id": "35IL-6XXLmCz"
      }
    },
    {
      "cell_type": "markdown",
      "source": [
        "#FARE UNA LISTA NON NUMERATA"
      ],
      "metadata": {
        "id": "WAcWpMz6LwYv"
      }
    },
    {
      "cell_type": "markdown",
      "source": [
        "* Punto 1\n",
        "* * Punto 1.1\n",
        "* Punto 2"
      ],
      "metadata": {
        "id": "4zVXVlhnLz96"
      }
    },
    {
      "cell_type": "markdown",
      "source": [
        "#FARE LISTA NUERATA"
      ],
      "metadata": {
        "id": "53QmbmgUMFMc"
      }
    },
    {
      "cell_type": "markdown",
      "source": [
        "1. Punto 1\n",
        "    1. punto 1.1\n",
        "2. Punto 2\n",
        "3. Punto 3"
      ],
      "metadata": {
        "id": "rHpK5cQ9MH27"
      }
    },
    {
      "cell_type": "markdown",
      "source": [
        "#COME CREARTE UN COLLEGAMENTO:\n",
        "INSERIRE IL TESTO DEL LINK FRA [] E POI L'URL FRA ()"
      ],
      "metadata": {
        "id": "S0VkjGa5Oh8Q"
      }
    },
    {
      "cell_type": "markdown",
      "source": [
        "Ecco il link: [duolingo](https://it.duolingo.com)"
      ],
      "metadata": {
        "id": "lDjX2jJaOs8F"
      }
    },
    {
      "cell_type": "markdown",
      "source": [
        "#LINK INTERNI:\n",
        "ovvero link ad altre partoi del nostro notebook"
      ],
      "metadata": {
        "id": "jCQ0tRNnPHeY"
      }
    },
    {
      "cell_type": "markdown",
      "source": [
        "[Torna all'inizio](#inizio)"
      ],
      "metadata": {
        "id": "_6esVgL6P2oj"
      }
    },
    {
      "cell_type": "markdown",
      "source": [
        "#IL SEPARATORE SI FA CON 3 TRATTINI"
      ],
      "metadata": {
        "id": "uIqnBuAvP_Zo"
      }
    },
    {
      "cell_type": "markdown",
      "source": [
        "---"
      ],
      "metadata": {
        "id": "IncGYb38QI32"
      }
    },
    {
      "cell_type": "markdown",
      "source": [],
      "metadata": {
        "id": "O9Y-ilsMPTtP"
      }
    },
    {
      "cell_type": "code",
      "source": [],
      "metadata": {
        "id": "pTa8P-oqITag"
      },
      "execution_count": null,
      "outputs": []
    }
  ]
}
