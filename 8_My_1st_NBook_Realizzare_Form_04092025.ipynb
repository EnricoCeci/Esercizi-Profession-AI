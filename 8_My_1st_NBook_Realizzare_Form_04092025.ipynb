{
  "nbformat": 4,
  "nbformat_minor": 0,
  "metadata": {
    "colab": {
      "provenance": [],
      "authorship_tag": "ABX9TyODdn9GcFMqN7imPkh1wbrZ",
      "include_colab_link": true
    },
    "kernelspec": {
      "name": "python3",
      "display_name": "Python 3"
    },
    "language_info": {
      "name": "python"
    }
  },
  "cells": [
    {
      "cell_type": "markdown",
      "metadata": {
        "id": "view-in-github",
        "colab_type": "text"
      },
      "source": [
        "<a href=\"https://colab.research.google.com/github/EnricoCeci/Master-Data-Science---Profession-AI---Portfolio-/blob/main/8_My_1st_NBook_Realizzare_Form_04092025.ipynb\" target=\"_parent\"><img src=\"https://colab.research.google.com/assets/colab-badge.svg\" alt=\"Open In Colab\"/></a>"
      ]
    },
    {
      "cell_type": "code",
      "execution_count": 4,
      "metadata": {
        "colab": {
          "base_uri": "https://localhost:8080/"
        },
        "id": "tE-256rbVbxh",
        "outputId": "61a2a09a-14e7-4011-bc15-b2ef556562cc"
      },
      "outputs": [
        {
          "output_type": "stream",
          "name": "stdout",
          "text": [
            "36\n"
          ]
        }
      ],
      "source": [
        "# @title Calcolatrice\n",
        "# @markdown Esegui un'operazione\n",
        "\n",
        "number_1 = 3 # @param {type: \"number\"}\n",
        "operator = \"+\" # @param [\"+\", \"-\", \"*\", \"/\"]\n",
        "number_2 = 12 # @param {type: \"number\"}\n",
        "\n",
        "if operator == \"+\":\n",
        "  result = number_1 + number_2\n",
        "elif operator == \"-\":\n",
        "  result = number_1 - number_2\n",
        "elif operator == \"*\":\n",
        "  result = number_1 * number_2\n",
        "elif operator == \"/\":\n",
        "  result = number_1 / number_2\n",
        "\n",
        "print(result)"
      ]
    },
    {
      "cell_type": "code",
      "source": [],
      "metadata": {
        "id": "2VJjM6A3XNRD"
      },
      "execution_count": null,
      "outputs": []
    }
  ]
}